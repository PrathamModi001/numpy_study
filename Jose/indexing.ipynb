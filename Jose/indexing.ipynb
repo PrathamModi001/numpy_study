{
 "cells": [
  {
   "cell_type": "code",
   "execution_count": 1,
   "id": "5ee751be",
   "metadata": {},
   "outputs": [],
   "source": [
    "import numpy as np"
   ]
  },
  {
   "cell_type": "code",
   "execution_count": 2,
   "id": "774c1a46",
   "metadata": {},
   "outputs": [],
   "source": [
    "my_array = np.arange(0,11)"
   ]
  },
  {
   "cell_type": "code",
   "execution_count": 3,
   "id": "596310bf",
   "metadata": {},
   "outputs": [
    {
     "data": {
      "text/plain": [
       "array([ 0,  1,  2,  3,  4,  5,  6,  7,  8,  9, 10])"
      ]
     },
     "execution_count": 3,
     "metadata": {},
     "output_type": "execute_result"
    }
   ],
   "source": [
    "my_array"
   ]
  },
  {
   "cell_type": "code",
   "execution_count": 6,
   "id": "0c338afa",
   "metadata": {},
   "outputs": [
    {
     "data": {
      "text/plain": [
       "array([0, 1, 2, 3, 4])"
      ]
     },
     "execution_count": 6,
     "metadata": {},
     "output_type": "execute_result"
    }
   ],
   "source": [
    "my_array[:5]\n",
    "\n",
    "# start(0) se leke 5 tak"
   ]
  },
  {
   "cell_type": "code",
   "execution_count": 7,
   "id": "f238c60b",
   "metadata": {},
   "outputs": [],
   "source": [
    "# BROADCASTING\n",
    "\n",
    "my_array[9:] = 69\n",
    "\n",
    "# we are reassigning the values mentioned in the range 9:end_tak to 69, we cannot do this in normal"
   ]
  },
  {
   "cell_type": "code",
   "execution_count": 8,
   "id": "a2d808cb",
   "metadata": {},
   "outputs": [
    {
     "data": {
      "text/plain": [
       "array([ 0,  1,  2,  3,  4,  5,  6,  7,  8, 69, 69])"
      ]
     },
     "execution_count": 8,
     "metadata": {},
     "output_type": "execute_result"
    }
   ],
   "source": [
    "my_array"
   ]
  },
  {
   "cell_type": "code",
   "execution_count": 15,
   "id": "ec574ad8",
   "metadata": {},
   "outputs": [],
   "source": [
    "sliced_array = my_array[:3] \n",
    "\n",
    "# slicing the original array into a smaller array for something i wanna show later\n",
    "# PS: IT IS JUST A POINTER TO THE ORIGINAL ARRAY\n",
    "\n",
    "# IF YOU CHANGE THE SLICED ARRAY (a pointer to og) IT WILL CHANGE THE OG ARRAY"
   ]
  },
  {
   "cell_type": "code",
   "execution_count": 10,
   "id": "ced9a8ce",
   "metadata": {},
   "outputs": [
    {
     "data": {
      "text/plain": [
       "array([0, 1, 2])"
      ]
     },
     "execution_count": 10,
     "metadata": {},
     "output_type": "execute_result"
    }
   ],
   "source": [
    "sliced_array"
   ]
  },
  {
   "cell_type": "code",
   "execution_count": 12,
   "id": "9af0532e",
   "metadata": {},
   "outputs": [],
   "source": [
    "sliced_array[:] = 420 \n",
    "\n",
    "# broadcasting all the values of the sliced array"
   ]
  },
  {
   "cell_type": "code",
   "execution_count": 13,
   "id": "73f23af4",
   "metadata": {},
   "outputs": [
    {
     "data": {
      "text/plain": [
       "array([420, 420, 420])"
      ]
     },
     "execution_count": 13,
     "metadata": {},
     "output_type": "execute_result"
    }
   ],
   "source": [
    "sliced_array"
   ]
  },
  {
   "cell_type": "code",
   "execution_count": 14,
   "id": "23b52d70",
   "metadata": {},
   "outputs": [
    {
     "data": {
      "text/plain": [
       "array([420, 420, 420,   3,   4,   5,   6,   7,   8,  69,  69])"
      ]
     },
     "execution_count": 14,
     "metadata": {},
     "output_type": "execute_result"
    }
   ],
   "source": [
    "# WILL IT HAVE ANY CHANGE ON THE ORIGINAL ARRAY ?\n",
    "\n",
    "my_array\n",
    "\n",
    "# YES."
   ]
  },
  {
   "cell_type": "code",
   "execution_count": 16,
   "id": "56732d04",
   "metadata": {},
   "outputs": [],
   "source": [
    "new_array = np.array([[1,2,3] , [4,5,6] , [7,8,9]])"
   ]
  },
  {
   "cell_type": "code",
   "execution_count": 17,
   "id": "86124e59",
   "metadata": {},
   "outputs": [
    {
     "data": {
      "text/plain": [
       "array([[1, 2, 3],\n",
       "       [4, 5, 6],\n",
       "       [7, 8, 9]])"
      ]
     },
     "execution_count": 17,
     "metadata": {},
     "output_type": "execute_result"
    }
   ],
   "source": [
    "new_array"
   ]
  },
  {
   "cell_type": "code",
   "execution_count": 18,
   "id": "5f1e2103",
   "metadata": {},
   "outputs": [
    {
     "data": {
      "text/plain": [
       "(3, 3)"
      ]
     },
     "execution_count": 18,
     "metadata": {},
     "output_type": "execute_result"
    }
   ],
   "source": [
    "new_array.shape"
   ]
  },
  {
   "cell_type": "code",
   "execution_count": 21,
   "id": "7116837f",
   "metadata": {},
   "outputs": [
    {
     "data": {
      "text/plain": [
       "2"
      ]
     },
     "execution_count": 21,
     "metadata": {},
     "output_type": "execute_result"
    }
   ],
   "source": [
    "new_array[0,1]\n",
    "\n",
    "# is the same as new_array[0][1]"
   ]
  },
  {
   "cell_type": "code",
   "execution_count": 24,
   "id": "3c27ae47",
   "metadata": {},
   "outputs": [],
   "source": [
    "# trying out slice with 2d indexing\n",
    "\n",
    "new_sliced_array = new_array[:2, 1:] \n",
    "\n",
    "# not used very often tho"
   ]
  },
  {
   "cell_type": "code",
   "execution_count": 25,
   "id": "6e8c697c",
   "metadata": {},
   "outputs": [
    {
     "data": {
      "text/plain": [
       "array([[2, 3],\n",
       "       [5, 6]])"
      ]
     },
     "execution_count": 25,
     "metadata": {},
     "output_type": "execute_result"
    }
   ],
   "source": [
    "new_sliced_array"
   ]
  },
  {
   "cell_type": "code",
   "execution_count": 26,
   "id": "f5e49768",
   "metadata": {},
   "outputs": [],
   "source": [
    "# SELECTION"
   ]
  },
  {
   "cell_type": "code",
   "execution_count": 36,
   "id": "f0aad3d7",
   "metadata": {},
   "outputs": [],
   "source": [
    "one_array = np.arange(0,11)"
   ]
  },
  {
   "cell_type": "code",
   "execution_count": 37,
   "id": "3d430736",
   "metadata": {},
   "outputs": [
    {
     "data": {
      "text/plain": [
       "array([False, False, False, False,  True,  True,  True,  True,  True,\n",
       "        True,  True])"
      ]
     },
     "execution_count": 37,
     "metadata": {},
     "output_type": "execute_result"
    }
   ],
   "source": [
    "one_array > 3\n",
    "\n",
    "# returns a boolean array suggesting true or false for the given condition"
   ]
  },
  {
   "cell_type": "code",
   "execution_count": 38,
   "id": "02d305cf",
   "metadata": {},
   "outputs": [],
   "source": [
    "bool_array = one_array > 3"
   ]
  },
  {
   "cell_type": "code",
   "execution_count": 39,
   "id": "135bb310",
   "metadata": {},
   "outputs": [
    {
     "data": {
      "text/plain": [
       "array([ 4,  5,  6,  7,  8,  9, 10])"
      ]
     },
     "execution_count": 39,
     "metadata": {},
     "output_type": "execute_result"
    }
   ],
   "source": [
    "one_array[bool_array]\n",
    "\n",
    "# THIS WILL GIVE ONLY TRUE VALUED ARGUMENTS"
   ]
  },
  {
   "cell_type": "code",
   "execution_count": 40,
   "id": "4365a062",
   "metadata": {},
   "outputs": [
    {
     "data": {
      "text/plain": [
       "array([ 4,  5,  6,  7,  8,  9, 10])"
      ]
     },
     "execution_count": 40,
     "metadata": {},
     "output_type": "execute_result"
    }
   ],
   "source": [
    "# FOR SHORT WE CAN DO, VERY IMPORTANT\n",
    "\n",
    "one_array[one_array > 3]"
   ]
  },
  {
   "cell_type": "code",
   "execution_count": null,
   "id": "723242fb",
   "metadata": {},
   "outputs": [],
   "source": []
  }
 ],
 "metadata": {
  "kernelspec": {
   "display_name": "Python 3 (ipykernel)",
   "language": "python",
   "name": "python3"
  },
  "language_info": {
   "codemirror_mode": {
    "name": "ipython",
    "version": 3
   },
   "file_extension": ".py",
   "mimetype": "text/x-python",
   "name": "python",
   "nbconvert_exporter": "python",
   "pygments_lexer": "ipython3",
   "version": "3.10.9"
  }
 },
 "nbformat": 4,
 "nbformat_minor": 5
}
