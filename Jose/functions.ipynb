{
 "cells": [
  {
   "cell_type": "code",
   "execution_count": 1,
   "id": "2f0f3bd6",
   "metadata": {},
   "outputs": [],
   "source": [
    "import numpy as np"
   ]
  },
  {
   "cell_type": "code",
   "execution_count": 2,
   "id": "2106eb43",
   "metadata": {},
   "outputs": [
    {
     "data": {
      "text/plain": [
       "array([[0.36384737, 0.31078135],\n",
       "       [0.31239276, 0.22139765],\n",
       "       [0.98036948, 0.08587148],\n",
       "       [0.45415657, 0.35797224],\n",
       "       [0.86319345, 0.21078102]])"
      ]
     },
     "execution_count": 2,
     "metadata": {},
     "output_type": "execute_result"
    }
   ],
   "source": [
    "np.random.rand(5,2) \n",
    "# Uniform Distribution: Equal Likelyhood of appearing\n",
    "\n",
    "# Gives us random numbers btw 0 and 1 where 0.0000 can come but never 1.0000\n",
    "# rand(5,2) gives us random numbers of 5 row 2 columns"
   ]
  },
  {
   "cell_type": "code",
   "execution_count": 3,
   "id": "43d143c2",
   "metadata": {},
   "outputs": [
    {
     "data": {
      "text/plain": [
       "array([[ 1.03224939,  0.22729804, -0.18995799, -1.67801423],\n",
       "       [ 1.37650037,  0.37494435,  1.12462547,  0.31551515],\n",
       "       [-1.05212661,  0.09946492, -0.42941837,  2.2185421 ]])"
      ]
     },
     "execution_count": 3,
     "metadata": {},
     "output_type": "execute_result"
    }
   ],
   "source": [
    "np.random.randn(3,4)\n",
    "# Standard Normal Distribution: Near 0: Higher Chance, Unequal Likelyhood\n",
    "\n",
    "# Numbers near 0 have higher chance of appearing in comparison, \n",
    "# So -ve numbers can also appear here."
   ]
  },
  {
   "cell_type": "code",
   "execution_count": 4,
   "id": "07c66e18",
   "metadata": {},
   "outputs": [
    {
     "data": {
      "text/plain": [
       "array([51, 89, 53, 79, 30])"
      ]
     },
     "execution_count": 4,
     "metadata": {},
     "output_type": "execute_result"
    }
   ],
   "source": [
    "np.random.randint(0,101,5) \n",
    "# Equal Likelyhood\n",
    "\n",
    "# 0 incl 101 excl (not including 101, so only till 100), \n",
    "# btw 0,100, give me 5 random integers\n"
   ]
  },
  {
   "cell_type": "code",
   "execution_count": 5,
   "id": "88183a14",
   "metadata": {},
   "outputs": [
    {
     "data": {
      "text/plain": [
       "array([[ 98, 100,  41,  99,  23],\n",
       "       [ 25,   5,  47,  70,  56],\n",
       "       [ 48,  83,  20,  50,  64],\n",
       "       [ 73,  43,  65,  22,  21]])"
      ]
     },
     "execution_count": 5,
     "metadata": {},
     "output_type": "execute_result"
    }
   ],
   "source": [
    "np.random.randint(0,101,(4,5))\n",
    "\n",
    "# btw 0,100 give me random integers matrix of 4 rows 5 columns"
   ]
  },
  {
   "cell_type": "code",
   "execution_count": 8,
   "id": "19dea7db",
   "metadata": {},
   "outputs": [
    {
     "data": {
      "text/plain": [
       "array([[0.37454012, 0.95071431, 0.73199394, 0.59865848, 0.15601864]])"
      ]
     },
     "execution_count": 8,
     "metadata": {},
     "output_type": "execute_result"
    }
   ],
   "source": [
    "# IN THE SAME CELL\n",
    "np.random.seed(42)\n",
    "np.random.rand(1,5)\n",
    "\n",
    "# what this does is that whatever random numbers are generated\n",
    "# they will be the same for the same seed\n",
    "# like if the seed is same and rand arguments are same, they will produce the same random numbers EVERYTIME"
   ]
  },
  {
   "cell_type": "code",
   "execution_count": 9,
   "id": "2591eee5",
   "metadata": {},
   "outputs": [],
   "source": [
    "arr = np.arange(0,25)"
   ]
  },
  {
   "cell_type": "code",
   "execution_count": 10,
   "id": "5adeca2a",
   "metadata": {},
   "outputs": [
    {
     "data": {
      "text/plain": [
       "array([ 0,  1,  2,  3,  4,  5,  6,  7,  8,  9, 10, 11, 12, 13, 14, 15, 16,\n",
       "       17, 18, 19, 20, 21, 22, 23, 24])"
      ]
     },
     "execution_count": 10,
     "metadata": {},
     "output_type": "execute_result"
    }
   ],
   "source": [
    "arr"
   ]
  },
  {
   "cell_type": "code",
   "execution_count": 13,
   "id": "2273e30a",
   "metadata": {},
   "outputs": [
    {
     "data": {
      "text/plain": [
       "array([[ 0,  1,  2,  3,  4],\n",
       "       [ 5,  6,  7,  8,  9],\n",
       "       [10, 11, 12, 13, 14],\n",
       "       [15, 16, 17, 18, 19],\n",
       "       [20, 21, 22, 23, 24]])"
      ]
     },
     "execution_count": 13,
     "metadata": {},
     "output_type": "execute_result"
    }
   ],
   "source": [
    "arr.reshape(5,5)\n",
    "\n",
    "# what reshape does is clearly visible from outputs\n",
    "# note that number of elements in arr should equate to the resized matrix\n",
    "# like you cannot have 25 total elements in arr, but reshape it to 30 elements in matrix"
   ]
  },
  {
   "cell_type": "code",
   "execution_count": 14,
   "id": "7efca309",
   "metadata": {},
   "outputs": [],
   "source": [
    "# FUNCTIONS ON RANDOM \n",
    "\n",
    "rand_array = np.random.randint(0,101,10)"
   ]
  },
  {
   "cell_type": "code",
   "execution_count": 15,
   "id": "e7d74222",
   "metadata": {},
   "outputs": [
    {
     "data": {
      "text/plain": [
       "array([82, 86, 74, 74, 87, 99, 23,  2, 21, 52])"
      ]
     },
     "execution_count": 15,
     "metadata": {},
     "output_type": "execute_result"
    }
   ],
   "source": [
    "rand_array"
   ]
  },
  {
   "cell_type": "code",
   "execution_count": 16,
   "id": "6379ad99",
   "metadata": {},
   "outputs": [
    {
     "data": {
      "text/plain": [
       "99"
      ]
     },
     "execution_count": 16,
     "metadata": {},
     "output_type": "execute_result"
    }
   ],
   "source": [
    "rand_array.max()"
   ]
  },
  {
   "cell_type": "code",
   "execution_count": 17,
   "id": "38c39f5b",
   "metadata": {},
   "outputs": [
    {
     "data": {
      "text/plain": [
       "2"
      ]
     },
     "execution_count": 17,
     "metadata": {},
     "output_type": "execute_result"
    }
   ],
   "source": [
    "rand_array.min()"
   ]
  },
  {
   "cell_type": "code",
   "execution_count": 19,
   "id": "49ee52a2",
   "metadata": {},
   "outputs": [
    {
     "data": {
      "text/plain": [
       "5"
      ]
     },
     "execution_count": 19,
     "metadata": {},
     "output_type": "execute_result"
    }
   ],
   "source": [
    "rand_array.argmax()\n",
    "# gives the index of the maximum element in the array"
   ]
  },
  {
   "cell_type": "code",
   "execution_count": 20,
   "id": "6c2b9cb0",
   "metadata": {},
   "outputs": [
    {
     "data": {
      "text/plain": [
       "(10,)"
      ]
     },
     "execution_count": 20,
     "metadata": {},
     "output_type": "execute_result"
    }
   ],
   "source": [
    "rand_array.shape \n",
    "\n",
    "# Note the difference btw 10,1 and 1,10"
   ]
  },
  {
   "cell_type": "code",
   "execution_count": 23,
   "id": "ab221482",
   "metadata": {},
   "outputs": [],
   "source": [
    "rand_array = rand_array.reshape(2,5)"
   ]
  },
  {
   "cell_type": "code",
   "execution_count": 24,
   "id": "c2b84de3",
   "metadata": {},
   "outputs": [
    {
     "data": {
      "text/plain": [
       "(2, 5)"
      ]
     },
     "execution_count": 24,
     "metadata": {},
     "output_type": "execute_result"
    }
   ],
   "source": [
    "rand_array.shape"
   ]
  },
  {
   "cell_type": "code",
   "execution_count": null,
   "id": "4aaa802b",
   "metadata": {},
   "outputs": [],
   "source": []
  }
 ],
 "metadata": {
  "kernelspec": {
   "display_name": "Python 3 (ipykernel)",
   "language": "python",
   "name": "python3"
  },
  "language_info": {
   "codemirror_mode": {
    "name": "ipython",
    "version": 3
   },
   "file_extension": ".py",
   "mimetype": "text/x-python",
   "name": "python",
   "nbconvert_exporter": "python",
   "pygments_lexer": "ipython3",
   "version": "3.10.9"
  }
 },
 "nbformat": 4,
 "nbformat_minor": 5
}
