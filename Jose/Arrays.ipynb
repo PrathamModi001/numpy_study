{
 "cells": [
  {
   "cell_type": "code",
   "execution_count": 1,
   "id": "fcb67d5c",
   "metadata": {},
   "outputs": [],
   "source": [
    "import numpy as np"
   ]
  },
  {
   "cell_type": "code",
   "execution_count": 5,
   "id": "4aebea7b",
   "metadata": {},
   "outputs": [],
   "source": [
    "# --> 1. Creating Arrays: \n",
    "\n",
    "#1. Transforming Normal List into NP Arrays"
   ]
  },
  {
   "cell_type": "code",
   "execution_count": 7,
   "id": "4d4cb43d",
   "metadata": {},
   "outputs": [],
   "source": [
    "normal_list = [1,2,3,4,5]"
   ]
  },
  {
   "cell_type": "code",
   "execution_count": 9,
   "id": "4c4bcc60",
   "metadata": {},
   "outputs": [],
   "source": [
    "np_array = np.array(normal_list)"
   ]
  },
  {
   "cell_type": "code",
   "execution_count": 13,
   "id": "1303092c",
   "metadata": {
    "collapsed": true
   },
   "outputs": [
    {
     "data": {
      "text/plain": [
       "numpy.ndarray"
      ]
     },
     "execution_count": 13,
     "metadata": {},
     "output_type": "execute_result"
    }
   ],
   "source": [
    "type(np_array) # This does not change the original array"
   ]
  },
  {
   "cell_type": "code",
   "execution_count": 16,
   "id": "eb31d5db",
   "metadata": {
    "collapsed": true
   },
   "outputs": [
    {
     "data": {
      "text/plain": [
       "array([ 0,  1,  2,  3,  4,  5,  6,  7,  8,  9, 10, 11, 12, 13, 14, 15, 16,\n",
       "       17, 18, 19])"
      ]
     },
     "execution_count": 16,
     "metadata": {},
     "output_type": "execute_result"
    }
   ],
   "source": [
    "# 2. Using built-in functions\n",
    "np.arange(0,20) # Like range but arrange with single r"
   ]
  },
  {
   "cell_type": "code",
   "execution_count": 17,
   "id": "e66e2dc5",
   "metadata": {
    "collapsed": true
   },
   "outputs": [
    {
     "data": {
      "text/plain": [
       "array([0., 0., 0., 0., 0.])"
      ]
     },
     "execution_count": 17,
     "metadata": {},
     "output_type": "execute_result"
    }
   ],
   "source": [
    "# Create zero matrix\n",
    "\n",
    "np.zeros(5) #1*5 ki zero matrix, 1 row 5 columns\n",
    "# Note: these zeros are floats not ints"
   ]
  },
  {
   "cell_type": "code",
   "execution_count": 20,
   "id": "4dd287f7",
   "metadata": {
    "collapsed": true
   },
   "outputs": [
    {
     "data": {
      "text/plain": [
       "array([[0., 0., 0., 0.],\n",
       "       [0., 0., 0., 0.],\n",
       "       [0., 0., 0., 0.],\n",
       "       [0., 0., 0., 0.]])"
      ]
     },
     "execution_count": 20,
     "metadata": {},
     "output_type": "execute_result"
    }
   ],
   "source": [
    "# 4 rows 4 colums ki zero matrix\n",
    "np.zeros((4,4)) #pass in a tuple like (4,4) , (2,5) not just 2,5\n"
   ]
  },
  {
   "cell_type": "code",
   "execution_count": 22,
   "id": "e4451cc2",
   "metadata": {},
   "outputs": [
    {
     "data": {
      "text/plain": [
       "array([[1., 1., 1., 1., 1.],\n",
       "       [1., 1., 1., 1., 1.]])"
      ]
     },
     "execution_count": 22,
     "metadata": {},
     "output_type": "execute_result"
    }
   ],
   "source": [
    "np.ones((2,5)) # 2 rows 5 colums ki 1 matrix"
   ]
  },
  {
   "cell_type": "code",
   "execution_count": 24,
   "id": "73612e40",
   "metadata": {},
   "outputs": [
    {
     "data": {
      "text/plain": [
       "array([ 0.,  5., 10.])"
      ]
     },
     "execution_count": 24,
     "metadata": {},
     "output_type": "execute_result"
    }
   ],
   "source": [
    "np.linspace(0,10,3) \n",
    "\n",
    "# What this does is it gives: Linearly Spaced Numbers\n",
    "# MATLAB Start 0, End 10, give me 3 linearly spaced numbers, \n",
    "# notice 0 , 5, 10 ke beech equal space/gap."
   ]
  },
  {
   "cell_type": "code",
   "execution_count": 25,
   "id": "cad7bd1c",
   "metadata": {},
   "outputs": [
    {
     "data": {
      "text/plain": [
       "array([ 0.,  1.,  2.,  3.,  4.,  5.,  6.,  7.,  8.,  9., 10.])"
      ]
     },
     "execution_count": 25,
     "metadata": {},
     "output_type": "execute_result"
    }
   ],
   "source": [
    "np.linspace(0,10,11)\n",
    "\n",
    "# Note that it INCLUDES 0 AND 10 not like normal lists\n",
    "# so btw 0,10 there are 11 numbers"
   ]
  },
  {
   "cell_type": "code",
   "execution_count": 26,
   "id": "91362a3a",
   "metadata": {},
   "outputs": [
    {
     "data": {
      "text/plain": [
       "array([[1., 0., 0., 0., 0.],\n",
       "       [0., 1., 0., 0., 0.],\n",
       "       [0., 0., 1., 0., 0.],\n",
       "       [0., 0., 0., 1., 0.],\n",
       "       [0., 0., 0., 0., 1.]])"
      ]
     },
     "execution_count": 26,
     "metadata": {},
     "output_type": "execute_result"
    }
   ],
   "source": [
    "np.eye(5)\n",
    "\n",
    "#Creates an identity matrix (1 along the diagonal) of square matrix size 5"
   ]
  },
  {
   "cell_type": "code",
   "execution_count": null,
   "id": "30ac2b51",
   "metadata": {},
   "outputs": [],
   "source": []
  }
 ],
 "metadata": {
  "kernelspec": {
   "display_name": "Python 3 (ipykernel)",
   "language": "python",
   "name": "python3"
  },
  "language_info": {
   "codemirror_mode": {
    "name": "ipython",
    "version": 3
   },
   "file_extension": ".py",
   "mimetype": "text/x-python",
   "name": "python",
   "nbconvert_exporter": "python",
   "pygments_lexer": "ipython3",
   "version": "3.10.9"
  }
 },
 "nbformat": 4,
 "nbformat_minor": 5
}
